{
 "cells": [
  {
   "cell_type": "code",
   "execution_count": 31,
   "metadata": {
    "ExecuteTime": {
     "end_time": "2019-04-15T18:59:38.232870Z",
     "start_time": "2019-04-15T18:59:38.228165Z"
    }
   },
   "outputs": [],
   "source": [
    "import time\n",
    "import random\n",
    "from selenium import webdriver\n",
    "import chromedriver_binary"
   ]
  },
  {
   "cell_type": "code",
   "execution_count": 56,
   "metadata": {
    "ExecuteTime": {
     "end_time": "2019-04-15T19:13:25.329446Z",
     "start_time": "2019-04-15T19:13:20.765206Z"
    }
   },
   "outputs": [],
   "source": [
    "driver = webdriver.Chrome()\n",
    "driver.get(\"https://github.com/thisismetis/dsp\")\n",
    "\n"
   ]
  },
  {
   "cell_type": "code",
   "execution_count": 57,
   "metadata": {
    "ExecuteTime": {
     "end_time": "2019-04-15T19:13:25.342688Z",
     "start_time": "2019-04-15T19:13:25.334018Z"
    }
   },
   "outputs": [],
   "source": [
    "import sys"
   ]
  },
  {
   "cell_type": "code",
   "execution_count": 58,
   "metadata": {
    "ExecuteTime": {
     "end_time": "2019-04-15T19:13:25.375878Z",
     "start_time": "2019-04-15T19:13:25.347731Z"
    }
   },
   "outputs": [],
   "source": [
    "avg_delay = 1\n",
    "\n",
    "\n",
    "def scrape404(url, links_todo=set(), links_done=set(), links_404=set(),\n",
    "              contains=\"\", max_depth=1, current_depth=0):\n",
    "\n",
    "    print(\n",
    "        dict(url=url, max_depth=max_depth, current_depth=current_depth,\n",
    "             n_404s=len(links_404)))\n",
    "\n",
    "    links_done.add(url)\n",
    "    driver.get(url)\n",
    "\n",
    "    time.sleep(.5 + .5 * random.random())\n",
    "\n",
    "    if \"Page not found\" in driver.title:\n",
    "        links_404.add(url)\n",
    "    else:\n",
    "        new_elems = test_elements = driver.find_elements_by_xpath(\n",
    "            f\"//a[contains(@href, '{contains}')]\")\n",
    "\n",
    "        for elem in new_elems:\n",
    "            try:\n",
    "                links_todo.add(elem.get_attribute('href'))\n",
    "            except:\n",
    "                print(\"Unexpected error:\", sys.exc_info()[0])\n",
    "\n",
    "    if max_depth - current_depth >= 1:\n",
    "        for new_url in (links_todo - links_done):\n",
    "            links_todo, links_done, links_404 = scrape404(\n",
    "                new_url, links_todo, links_done, links_404, contains,\n",
    "                max_depth, current_depth + 1)\n",
    "\n",
    "    return links_todo, links_done, links_404"
   ]
  },
  {
   "cell_type": "code",
   "execution_count": 59,
   "metadata": {
    "ExecuteTime": {
     "end_time": "2019-04-15T19:17:07.676137Z",
     "start_time": "2019-04-15T19:13:35.306128Z"
    }
   },
   "outputs": [
    {
     "name": "stdout",
     "output_type": "stream",
     "text": [
      "{'url': 'https://github.com/thisismetis/dsp', 'max_depth': 2, 'current_depth': 0, 'n_404s': 0}\n",
      "{'url': 'https://github.com/thisismetis/dsp/blob/master/resources/computer_requirements.md', 'max_depth': 2, 'current_depth': 1, 'n_404s': 0}\n",
      "{'url': 'https://github.com/thisismetis/dsp/blob/master/x', 'max_depth': 2, 'current_depth': 2, 'n_404s': 0}\n",
      "{'url': 'https://github.com/thisismetis/dsp/blob/master/lessons/command_line', 'max_depth': 2, 'current_depth': 2, 'n_404s': 0}\n",
      "{'url': 'https://github.com/thisismetis/dsp/blob/master/lessons/markdown', 'max_depth': 2, 'current_depth': 2, 'n_404s': 0}\n",
      "{'url': 'https://github.com/thisismetis/dsp/blob/master/img/prep2.png', 'max_depth': 2, 'current_depth': 2, 'n_404s': 0}\n",
      "{'url': 'https://github.com/thisismetis/dsp/blob/master/lessons/install', 'max_depth': 2, 'current_depth': 2, 'n_404s': 0}\n",
      "{'url': 'https://github.com/thisismetis/dsp/blob/master/lessons/editors', 'max_depth': 2, 'current_depth': 2, 'n_404s': 0}\n",
      "{'url': 'https://github.com/thisismetis/dsp/blob/master/lessons/more_resources', 'max_depth': 2, 'current_depth': 2, 'n_404s': 0}\n",
      "{'url': 'https://github.com/thisismetis/dsp/blob/master/README.md', 'max_depth': 2, 'current_depth': 2, 'n_404s': 0}\n",
      "{'url': 'https://github.com/thisismetis/dsp/blob/master/lessons/install_jupyter', 'max_depth': 2, 'current_depth': 2, 'n_404s': 0}\n",
      "{'url': 'https://github.com/thisismetis/dsp/blob/master/.gitignore', 'max_depth': 2, 'current_depth': 2, 'n_404s': 0}\n",
      "{'url': 'https://github.com/thisismetis/dsp/blob/master/lessons/git_fork', 'max_depth': 2, 'current_depth': 2, 'n_404s': 0}\n",
      "{'url': 'https://github.com/thisismetis/dsp/blob/master/lessons/python_intro', 'max_depth': 2, 'current_depth': 2, 'n_404s': 0}\n",
      "{'url': 'https://github.com/thisismetis/dsp/blob/master/img/mac2.png', 'max_depth': 2, 'current_depth': 2, 'n_404s': 0}\n",
      "{'url': 'https://github.com/thisismetis/dsp/blob/master/lessons/pandas_intro', 'max_depth': 2, 'current_depth': 2, 'n_404s': 0}\n",
      "{'url': 'https://github.com/thisismetis/dsp/blob/master/lessons/statistics', 'max_depth': 2, 'current_depth': 2, 'n_404s': 0}\n",
      "{'url': 'https://github.com/thisismetis/dsp/blob/master/img/save_your_work.png', 'max_depth': 2, 'current_depth': 2, 'n_404s': 0}\n",
      "{'url': 'https://github.com/thisismetis/dsp/blob/master/lessons/git_intro', 'max_depth': 2, 'current_depth': 2, 'n_404s': 0}\n",
      "{'url': 'https://github.com/thisismetis/dsp/blob/master/lessons/linear_algebra', 'max_depth': 2, 'current_depth': 2, 'n_404s': 0}\n",
      "{'url': 'https://github.com/thisismetis/dsp/blob/master/lessons/git_branches', 'max_depth': 2, 'current_depth': 2, 'n_404s': 0}\n",
      "{'url': 'https://github.com/thisismetis/dsp/blob/master/lessons/python_advanced', 'max_depth': 2, 'current_depth': 2, 'n_404s': 0}\n",
      "{'url': 'https://github.com/thisismetis/dsp/blob/master/x', 'max_depth': 2, 'current_depth': 1, 'n_404s': 0}\n",
      "{'url': 'https://github.com/thisismetis/dsp/blob/master/lessons/statistics/3-1-actual_biased.md', 'max_depth': 2, 'current_depth': 2, 'n_404s': 0}\n",
      "{'url': 'https://github.com/thisismetis/dsp/blob/master/lessons/statistics/7-1-weight_vs_age.md', 'max_depth': 2, 'current_depth': 2, 'n_404s': 0}\n",
      "{'url': 'https://github.com/thisismetis/dsp/blob/master/lessons/pandas_intro/readme.md', 'max_depth': 2, 'current_depth': 2, 'n_404s': 0}\n",
      "{'url': 'https://github.com/thisismetis/dsp/blob/master/lessons/git_fork/img/forking_repo.png', 'max_depth': 2, 'current_depth': 2, 'n_404s': 0}\n",
      "{'url': 'https://github.com/thisismetis/dsp/blob/master/lessons/command_line/command_line_lecture.md', 'max_depth': 2, 'current_depth': 2, 'n_404s': 1}\n",
      "{'url': 'https://github.com/thisismetis/dsp/blob/master/lessons/more_resources/readme.md', 'max_depth': 2, 'current_depth': 2, 'n_404s': 1}\n",
      "{'url': 'https://github.com/thisismetis/dsp/blob/master/lessons/python_intro/importing_with_python/importing_example.ipynb', 'max_depth': 2, 'current_depth': 2, 'n_404s': 1}\n",
      "{'url': 'https://github.com/thisismetis/dsp/blob/master/lessons/statistics/5-1-blue_men.md', 'max_depth': 2, 'current_depth': 2, 'n_404s': 1}\n",
      "{'url': 'https://github.com/thisismetis/dsp/blob/master/lessons/linear_algebra/readme.md', 'max_depth': 2, 'current_depth': 2, 'n_404s': 1}\n",
      "{'url': 'https://github.com/thisismetis/dsp/blob/master/lessons/git_intro/readme.md', 'max_depth': 2, 'current_depth': 2, 'n_404s': 1}\n",
      "{'url': 'https://github.com/thisismetis/dsp/blob/master/lessons/python_advanced/deep_and_shallow_copy.ipynb', 'max_depth': 2, 'current_depth': 2, 'n_404s': 1}\n",
      "{'url': 'https://github.com/thisismetis/dsp/blob/master/lessons/python_intro/readme.md', 'max_depth': 2, 'current_depth': 2, 'n_404s': 1}\n",
      "{'url': 'https://github.com/thisismetis/dsp/blob/master/lessons/statistics/README.md', 'max_depth': 2, 'current_depth': 2, 'n_404s': 1}\n",
      "{'url': 'https://github.com/thisismetis/dsp/blob/master/lessons/statistics/8-3-scoring.md', 'max_depth': 2, 'current_depth': 2, 'n_404s': 1}\n",
      "{'url': 'https://github.com/thisismetis/dsp/blob/master/lessons/python_advanced/my_dataframe.pickle', 'max_depth': 2, 'current_depth': 2, 'n_404s': 1}\n",
      "{'url': 'https://github.com/thisismetis/dsp/blob/master/lessons/pandas_intro/pandas-solution.ipynb', 'max_depth': 2, 'current_depth': 2, 'n_404s': 1}\n",
      "{'url': 'https://github.com/thisismetis/dsp/blob/master/lessons/pandas_intro/pandas-exercise.ipynb', 'max_depth': 2, 'current_depth': 2, 'n_404s': 2}\n",
      "{'url': 'https://github.com/thisismetis/dsp/blob/master/lessons/markdown/readme.md', 'max_depth': 2, 'current_depth': 2, 'n_404s': 2}\n",
      "{'url': 'https://github.com/thisismetis/dsp/blob/master/lessons/python_advanced/advanced_python_datatypes.ipynb', 'max_depth': 2, 'current_depth': 2, 'n_404s': 2}\n",
      "{'url': 'https://github.com/thisismetis/dsp/blob/master/lessons/install/readme.md', 'max_depth': 2, 'current_depth': 2, 'n_404s': 2}\n",
      "{'url': 'https://github.com/thisismetis/dsp/blob/master/lessons/pandas_intro/Intro-to-Pandas.ipynb', 'max_depth': 2, 'current_depth': 2, 'n_404s': 2}\n",
      "{'url': 'https://github.com/thisismetis/dsp/blob/master/lessons/statistics/2-4-cohens_d.md', 'max_depth': 2, 'current_depth': 2, 'n_404s': 2}\n",
      "{'url': 'https://github.com/thisismetis/dsp/blob/master/lessons/git_fork/readme.md', 'max_depth': 2, 'current_depth': 2, 'n_404s': 2}\n",
      "{'url': 'https://github.com/thisismetis/dsp/blob/master/lessons/install_jupyter/jupyter_notebook_1_install.md', 'max_depth': 2, 'current_depth': 2, 'n_404s': 2}\n",
      "{'url': 'https://github.com/thisismetis/dsp/blob/master/lessons/statistics/4-2-random_dist.md', 'max_depth': 2, 'current_depth': 2, 'n_404s': 2}\n",
      "{'url': 'https://github.com/thisismetis/dsp/blob/master/lessons/editors/readme.md', 'max_depth': 2, 'current_depth': 2, 'n_404s': 2}\n",
      "{'url': 'https://github.com/thisismetis/dsp/blob/master/lessons/git_fork/img/edit_file.png', 'max_depth': 2, 'current_depth': 2, 'n_404s': 2}\n",
      "{'url': 'https://github.com/thisismetis/dsp/blob/master/lessons/git_intro/pull_request_demo.gif', 'max_depth': 2, 'current_depth': 2, 'n_404s': 3}\n",
      "{'url': 'https://github.com/thisismetis/dsp/blob/master/lessons/python_advanced/pickle_saving_objects_for_later.ipynb', 'max_depth': 2, 'current_depth': 2, 'n_404s': 3}\n",
      "{'url': 'https://github.com/thisismetis/dsp/blob/master/lessons/install_jupyter/jupyter_notebook_2_use.md', 'max_depth': 2, 'current_depth': 2, 'n_404s': 3}\n",
      "{'url': 'https://github.com/thisismetis/dsp/blob/master/lessons/python_advanced/readme.md', 'max_depth': 2, 'current_depth': 2, 'n_404s': 3}\n",
      "{'url': 'https://github.com/thisismetis/dsp/blob/master/lessons/pandas_intro/Exploratory_Data_Analysis.key', 'max_depth': 2, 'current_depth': 2, 'n_404s': 3}\n",
      "{'url': 'https://github.com/thisismetis/dsp/blob/master/lessons/git_fork/img/commit_file.png', 'max_depth': 2, 'current_depth': 2, 'n_404s': 3}\n",
      "{'url': 'https://github.com/thisismetis/dsp/blob/master/lessons/python_intro/python_review_and_best_practices.ipynb', 'max_depth': 2, 'current_depth': 2, 'n_404s': 4}\n",
      "{'url': 'https://github.com/thisismetis/dsp/blob/master/resources/student_blogs.md', 'max_depth': 2, 'current_depth': 2, 'n_404s': 4}\n",
      "{'url': 'https://github.com/thisismetis/dsp/blob/master/lessons/command_line/command_line_quick_reference.md', 'max_depth': 2, 'current_depth': 2, 'n_404s': 4}\n",
      "{'url': 'https://github.com/thisismetis/dsp/blob/master/lessons/python_advanced/noise.pickle', 'max_depth': 2, 'current_depth': 2, 'n_404s': 4}\n"
     ]
    },
    {
     "name": "stdout",
     "output_type": "stream",
     "text": [
      "{'url': 'https://github.com/thisismetis/dsp/blob/master/lessons/command_line/readme.md', 'max_depth': 2, 'current_depth': 2, 'n_404s': 4}\n",
      "{'url': 'https://github.com/thisismetis/dsp/blob/master/lessons/git_branches/Intro_to_Git_Branches.pptx', 'max_depth': 2, 'current_depth': 2, 'n_404s': 4}\n",
      "{'url': 'https://github.com/thisismetis/dsp/blob/master/lessons/git_branches/Intro_to_Git_Branches.pdf', 'max_depth': 2, 'current_depth': 2, 'n_404s': 4}\n",
      "{'url': 'https://github.com/thisismetis/dsp/blob/master/lessons/statistics/9-2-resampling.md', 'max_depth': 2, 'current_depth': 2, 'n_404s': 4}\n",
      "{'url': 'https://github.com/thisismetis/dsp/blob/master/lessons/git_intro/Intro_to_Git.pdf', 'max_depth': 2, 'current_depth': 2, 'n_404s': 4}\n",
      "{'url': 'https://github.com/thisismetis/dsp/blob/master/lessons/statistics/8-2-sampling_dist.md', 'max_depth': 2, 'current_depth': 2, 'n_404s': 4}\n",
      "{'url': 'https://github.com/thisismetis/dsp/blob/master/lessons/linear_algebra/linear_algebra_in_4pages.pdf', 'max_depth': 2, 'current_depth': 2, 'n_404s': 4}\n",
      "{'url': 'https://github.com/thisismetis/dsp/blob/master/lessons/git_branches/readme.md', 'max_depth': 2, 'current_depth': 2, 'n_404s': 4}\n",
      "{'url': 'https://github.com/thisismetis/dsp/blob/master/lessons/python_intro/instructor_guide_week1_day1.md', 'max_depth': 2, 'current_depth': 2, 'n_404s': 4}\n",
      "{'url': 'https://github.com/thisismetis/dsp/blob/master/lessons/statistics/6-1-household_income.md', 'max_depth': 2, 'current_depth': 2, 'n_404s': 4}\n",
      "{'url': 'https://github.com/thisismetis/dsp/blob/master/lessons/git_intro/Intro_to_Git.pptx', 'max_depth': 2, 'current_depth': 2, 'n_404s': 4}\n",
      "{'url': 'https://github.com/thisismetis/dsp/blob/master/lessons/install_jupyter/readme.md', 'max_depth': 2, 'current_depth': 2, 'n_404s': 4}\n",
      "{'url': 'https://github.com/thisismetis/dsp/blob/master/lessons/python_advanced/instructor_guide_week1_day4.md', 'max_depth': 2, 'current_depth': 2, 'n_404s': 4}\n",
      "{'url': 'https://github.com/thisismetis/dsp/blob/master/lessons/pandas_intro/Exploratory_Data_Analysis.pdf', 'max_depth': 2, 'current_depth': 2, 'n_404s': 4}\n",
      "{'url': 'https://github.com/thisismetis/dsp/blob/master/lessons/statistics/07-statistics.md', 'max_depth': 2, 'current_depth': 2, 'n_404s': 4}\n",
      "{'url': 'https://github.com/thisismetis/dsp/blob/master/lessons/command_line', 'max_depth': 2, 'current_depth': 1, 'n_404s': 4}\n",
      "{'url': 'https://github.com/thisismetis/dsp/blob/master/lessons/python_advanced/my_dataframe.pickle?raw=true', 'max_depth': 2, 'current_depth': 2, 'n_404s': 4}\n",
      "{'url': 'https://github.com/thisismetis/dsp/blob/master/lessons/statistics/statistics/4-2-random_dist.md', 'max_depth': 2, 'current_depth': 2, 'n_404s': 4}\n",
      "{'url': 'https://github.com/thisismetis/dsp/blob/master/lessons/statistics/statistics/3-1-actual_biased.md', 'max_depth': 2, 'current_depth': 2, 'n_404s': 5}\n",
      "{'url': 'https://github.com/thisismetis/dsp/blob/master/lessons/pandas_intro/Exploratory_Data_Analysis.key?raw=true', 'max_depth': 2, 'current_depth': 2, 'n_404s': 6}\n",
      "{'url': 'https://github.com/thisismetis/dsp/blob/master/lessons/python_advanced/pickle_saving_objects_for_later.ipynb?short_path=b922d3d', 'max_depth': 2, 'current_depth': 2, 'n_404s': 7}\n",
      "{'url': 'https://github.com/thisismetis/dsp/blob/master/lessons/statistics/statistics/8-2-sampling_dist.md', 'max_depth': 2, 'current_depth': 2, 'n_404s': 7}\n",
      "{'url': 'https://github.com/thisismetis/dsp/blob/master/lessons/git_branches/Intro_to_Git_Branches.pptx?raw=true', 'max_depth': 2, 'current_depth': 2, 'n_404s': 8}\n",
      "{'url': 'https://github.com/thisismetis/dsp/blob/master/lessons/pandas_intro/pandas-exercise.ipynb?short_path=74e5308', 'max_depth': 2, 'current_depth': 2, 'n_404s': 9}\n",
      "{'url': 'https://github.com/thisismetis/dsp/blob/master/lessons/command_line/windows', 'max_depth': 2, 'current_depth': 2, 'n_404s': 9}\n",
      "{'url': 'https://github.com/thisismetis/dsp/blob/master/lessons/python_advanced/advanced_python_datatypes.ipynb?short_path=27e239e', 'max_depth': 2, 'current_depth': 2, 'n_404s': 10}\n",
      "{'url': 'https://github.com/thisismetis/dsp/blob/master/lessons/statistics/statistics/5-1-blue_men.md', 'max_depth': 2, 'current_depth': 2, 'n_404s': 10}\n",
      "{'url': 'https://github.com/thisismetis/dsp/blob/master/lessons/statistics/statistics/7-1-weight_vs_age.md', 'max_depth': 2, 'current_depth': 2, 'n_404s': 11}\n",
      "{'url': 'https://github.com/thisismetis/dsp/blob/master/lessons/pandas_intro/Intro-to-Pandas.ipynb?short_path=9bbd8dd', 'max_depth': 2, 'current_depth': 2, 'n_404s': 12}\n",
      "{'url': 'https://github.com/thisismetis/dsp/blob/master/lessons/statistics/statistics/2-4-cohens_d.md', 'max_depth': 2, 'current_depth': 2, 'n_404s': 12}\n",
      "{'url': 'https://github.com/thisismetis/dsp/blob/master/lessons/python_intro/python_review_and_best_practices.ipynb?short_path=9548a9d', 'max_depth': 2, 'current_depth': 2, 'n_404s': 13}\n",
      "{'url': 'https://github.com/thisismetis/dsp/blob/master/lessons/python_intro/importing_with_python/importing_example.ipynb?short_path=dc6d225', 'max_depth': 2, 'current_depth': 2, 'n_404s': 13}\n",
      "{'url': 'https://github.com/thisismetis/dsp/blob/master/lessons/command_line/img/unix_fs.jpg', 'max_depth': 2, 'current_depth': 2, 'n_404s': 13}\n",
      "{'url': 'https://github.com/thisismetis/dsp/blob/master/lessons/statistics/statistics/6-1-household_income.md', 'max_depth': 2, 'current_depth': 2, 'n_404s': 14}\n",
      "{'url': 'https://github.com/thisismetis/dsp/blob/master/lessons/python_advanced/deep_and_shallow_copy.ipynb?short_path=2093594', 'max_depth': 2, 'current_depth': 2, 'n_404s': 15}\n",
      "{'url': 'https://github.com/thisismetis/dsp/blob/master/lessons/python_advanced/noise.pickle?raw=true', 'max_depth': 2, 'current_depth': 2, 'n_404s': 15}\n",
      "{'url': 'https://github.com/thisismetis/dsp/blob/master/lessons/git_intro/Intro_to_Git.pptx?raw=true', 'max_depth': 2, 'current_depth': 2, 'n_404s': 15}\n",
      "{'url': 'https://github.com/thisismetis/dsp/blob/master/lessons/statistics/statistics/9-2-resampling.md', 'max_depth': 2, 'current_depth': 2, 'n_404s': 15}\n",
      "{'url': 'https://github.com/thisismetis/dsp/blob/master/lessons/statistics/statistics/8-3-scoring.md', 'max_depth': 2, 'current_depth': 2, 'n_404s': 16}\n",
      "{'url': 'https://github.com/thisismetis/dsp/blob/master/lessons/markdown', 'max_depth': 2, 'current_depth': 1, 'n_404s': 17}\n",
      "{'url': 'https://github.com/thisismetis/dsp/blob/master/img/prep2.png', 'max_depth': 2, 'current_depth': 1, 'n_404s': 17}\n",
      "{'url': 'https://github.com/thisismetis/dsp/blob/master/lessons/install', 'max_depth': 2, 'current_depth': 1, 'n_404s': 17}\n",
      "{'url': 'https://github.com/thisismetis/dsp/blob/master/lessons/editors', 'max_depth': 2, 'current_depth': 1, 'n_404s': 17}\n",
      "{'url': 'https://github.com/thisismetis/dsp/blob/master/lessons/install_jupyter', 'max_depth': 2, 'current_depth': 1, 'n_404s': 17}\n",
      "{'url': 'https://github.com/thisismetis/dsp/blob/master/README.md', 'max_depth': 2, 'current_depth': 1, 'n_404s': 17}\n",
      "{'url': 'https://github.com/thisismetis/dsp/blob/master/lessons/more_resources', 'max_depth': 2, 'current_depth': 1, 'n_404s': 17}\n",
      "{'url': 'https://github.com/thisismetis/dsp/blob/master/.gitignore', 'max_depth': 2, 'current_depth': 1, 'n_404s': 17}\n",
      "{'url': 'https://github.com/thisismetis/dsp/blob/master/lessons/git_fork', 'max_depth': 2, 'current_depth': 1, 'n_404s': 17}\n",
      "{'url': 'https://github.com/thisismetis/dsp/blob/master/lessons/python_intro', 'max_depth': 2, 'current_depth': 1, 'n_404s': 17}\n",
      "{'url': 'https://github.com/thisismetis/dsp/blob/master/lessons/pandas_intro', 'max_depth': 2, 'current_depth': 1, 'n_404s': 17}\n",
      "{'url': 'https://github.com/thisismetis/dsp/blob/master/lessons/git_intro', 'max_depth': 2, 'current_depth': 1, 'n_404s': 17}\n",
      "{'url': 'https://github.com/thisismetis/dsp/blob/master/lessons/statistics', 'max_depth': 2, 'current_depth': 1, 'n_404s': 17}\n",
      "{'url': 'https://github.com/thisismetis/dsp/blob/master/lessons/linear_algebra', 'max_depth': 2, 'current_depth': 1, 'n_404s': 17}\n",
      "{'url': 'https://github.com/thisismetis/dsp/blob/master/img/save_your_work.png', 'max_depth': 2, 'current_depth': 1, 'n_404s': 17}\n",
      "{'url': 'https://github.com/thisismetis/dsp/blob/master/lessons/git_branches', 'max_depth': 2, 'current_depth': 1, 'n_404s': 17}\n",
      "{'url': 'https://github.com/thisismetis/dsp/blob/master/lessons/python_advanced', 'max_depth': 2, 'current_depth': 1, 'n_404s': 17}\n"
     ]
    },
    {
     "name": "stdout",
     "output_type": "stream",
     "text": [
      "{'links_todo': {'https://github.com/thisismetis/dsp/blob/master/lessons/python_advanced/my_dataframe.pickle?raw=true', 'https://github.com/thisismetis/dsp/blob/master/lessons/git_intro/readme.md', 'https://github.com/thisismetis/dsp/blob/master/lessons/python_advanced/pickle_saving_objects_for_later.ipynb?short_path=b922d3d', 'https://github.com/thisismetis/dsp/blob/master/lessons/statistics/README.md', 'https://github.com/thisismetis/dsp/blob/master/README.md', 'https://github.com/thisismetis/dsp/blob/master/lessons/git_branches/Intro_to_Git_Branches.pptx?raw=true', 'https://github.com/thisismetis/dsp/blob/master/lessons/command_line/windows', 'https://github.com/thisismetis/dsp/blob/master/lessons/statistics', 'https://github.com/thisismetis/dsp/blob/master/lessons/statistics/statistics/2-4-cohens_d.md', 'https://github.com/thisismetis/dsp/blob/master/lessons/install/readme.md', 'https://github.com/thisismetis/dsp/blob/master/lessons/python_intro/python_review_and_best_practices.ipynb?short_path=9548a9d', 'https://github.com/thisismetis/dsp/blob/master/lessons/statistics/2-4-cohens_d.md', 'https://github.com/thisismetis/dsp/blob/master/lessons/python_advanced/pickle_saving_objects_for_later.ipynb', 'https://github.com/thisismetis/dsp/blob/master/lessons/install_jupyter/jupyter_notebook_2_use.md', 'https://github.com/thisismetis/dsp/blob/master/lessons/pandas_intro/Exploratory_Data_Analysis.key', 'https://github.com/thisismetis/dsp/blob/master/lessons/command_line', 'https://github.com/thisismetis/dsp/blob/master/lessons/git_fork/img/commit_file.png', 'https://github.com/thisismetis/dsp/blob/master/resources/student_blogs.md', 'https://github.com/thisismetis/dsp/blob/master/lessons/command_line/readme.md', 'https://github.com/thisismetis/dsp/blob/master/lessons/statistics/9-2-resampling.md', 'https://github.com/thisismetis/dsp/blob/master/lessons/git_intro/Intro_to_Git.pdf', 'https://github.com/thisismetis/dsp/blob/master/lessons/statistics/statistics/8-3-scoring.md', 'https://github.com/thisismetis/dsp/blob/master/lessons/statistics/6-1-household_income.md', 'https://github.com/thisismetis/dsp/blob/master/resources/computer_requirements.md', 'https://github.com/thisismetis/dsp/blob/master/lessons/statistics/7-1-weight_vs_age.md', 'https://github.com/thisismetis/dsp/blob/master/lessons/git_fork/img/forking_repo.png', 'https://github.com/thisismetis/dsp/blob/master/lessons/pandas_intro/Exploratory_Data_Analysis.key?raw=true', 'https://github.com/thisismetis/dsp/blob/master/lessons/command_line/command_line_lecture.md', 'https://github.com/thisismetis/dsp/blob/master/lessons/statistics/statistics/8-2-sampling_dist.md', 'https://github.com/thisismetis/dsp/blob/master/lessons/more_resources', 'https://github.com/thisismetis/dsp/blob/master/lessons/python_advanced/my_dataframe.pickle', 'https://github.com/thisismetis/dsp/blob/master/lessons/pandas_intro/pandas-exercise.ipynb', 'https://github.com/thisismetis/dsp/blob/master/img/mac2.png', 'https://github.com/thisismetis/dsp/blob/master/lessons/markdown/readme.md', 'https://github.com/thisismetis/dsp/blob/master/lessons/python_advanced/advanced_python_datatypes.ipynb', 'https://github.com/thisismetis/dsp/blob/master/lessons/pandas_intro/Intro-to-Pandas.ipynb', 'https://github.com/thisismetis/dsp/blob/master/lessons/install_jupyter/jupyter_notebook_1_install.md', 'https://github.com/thisismetis/dsp/blob/master/lessons/statistics/4-2-random_dist.md', 'https://github.com/thisismetis/dsp/blob/master/lessons/git_fork/img/edit_file.png', 'https://github.com/thisismetis/dsp/blob/master/lessons/python_intro/importing_with_python/importing_example.ipynb?short_path=dc6d225', 'https://github.com/thisismetis/dsp/blob/master/img/prep2.png', 'https://github.com/thisismetis/dsp/blob/master/lessons/install', 'https://github.com/thisismetis/dsp/blob/master/lessons/statistics/statistics/6-1-household_income.md', 'https://github.com/thisismetis/dsp/blob/master/lessons/python_advanced/noise.pickle?raw=true', 'https://github.com/thisismetis/dsp/blob/master/lessons/git_intro/Intro_to_Git.pptx?raw=true', 'https://github.com/thisismetis/dsp/blob/master/lessons/git_intro', 'https://github.com/thisismetis/dsp/blob/master/lessons/linear_algebra', 'https://github.com/thisismetis/dsp/blob/master/lessons/git_branches', 'https://github.com/thisismetis/dsp/blob/master/lessons/statistics/07-statistics.md', 'https://github.com/thisismetis/dsp/blob/master/lessons/statistics/3-1-actual_biased.md', 'https://github.com/thisismetis/dsp/blob/master/x', 'https://github.com/thisismetis/dsp/blob/master/lessons/statistics/statistics/3-1-actual_biased.md', 'https://github.com/thisismetis/dsp/blob/master/lessons/statistics/statistics/4-2-random_dist.md', 'https://github.com/thisismetis/dsp/blob/master/lessons/python_intro/importing_with_python/importing_example.ipynb', 'https://github.com/thisismetis/dsp/blob/master/lessons/python_intro/readme.md', 'https://github.com/thisismetis/dsp/blob/master/lessons/pandas_intro/pandas-exercise.ipynb?short_path=74e5308', 'https://github.com/thisismetis/dsp/blob/master/lessons/git_fork', 'https://github.com/thisismetis/dsp/blob/master/lessons/pandas_intro', 'https://github.com/thisismetis/dsp/blob/master/lessons/pandas_intro/Intro-to-Pandas.ipynb?short_path=9bbd8dd', 'https://github.com/thisismetis/dsp/blob/master/lessons/git_fork/readme.md', 'https://github.com/thisismetis/dsp/blob/master/lessons/python_advanced/readme.md', 'https://github.com/thisismetis/dsp/blob/master/lessons/editors/readme.md', 'https://github.com/thisismetis/dsp/blob/master/lessons/python_advanced', 'https://github.com/thisismetis/dsp/blob/master/lessons/git_intro/pull_request_demo.gif', 'https://github.com/thisismetis/dsp/blob/master/lessons/command_line/command_line_quick_reference.md', 'https://github.com/thisismetis/dsp/blob/master/.gitignore', 'https://github.com/thisismetis/dsp/blob/master/lessons/statistics/statistics/9-2-resampling.md', 'https://github.com/thisismetis/dsp/blob/master/lessons/statistics/8-2-sampling_dist.md', 'https://github.com/thisismetis/dsp/blob/master/lessons/linear_algebra/linear_algebra_in_4pages.pdf', 'https://github.com/thisismetis/dsp/blob/master/lessons/git_branches/readme.md', 'https://github.com/thisismetis/dsp/blob/master/lessons/pandas_intro/Exploratory_Data_Analysis.pdf', 'https://github.com/thisismetis/dsp/blob/master/lessons/markdown', 'https://github.com/thisismetis/dsp/blob/master/lessons/pandas_intro/readme.md', 'https://github.com/thisismetis/dsp/blob/master/lessons/statistics/5-1-blue_men.md', 'https://github.com/thisismetis/dsp/blob/master/lessons/more_resources/readme.md', 'https://github.com/thisismetis/dsp/blob/master/lessons/linear_algebra/readme.md', 'https://github.com/thisismetis/dsp/blob/master/lessons/python_advanced/deep_and_shallow_copy.ipynb', 'https://github.com/thisismetis/dsp/blob/master/lessons/statistics/8-3-scoring.md', 'https://github.com/thisismetis/dsp/blob/master/lessons/pandas_intro/pandas-solution.ipynb', 'https://github.com/thisismetis/dsp/blob/master/lessons/python_intro', 'https://github.com/thisismetis/dsp/blob/master/lessons/python_advanced/advanced_python_datatypes.ipynb?short_path=27e239e', 'https://github.com/thisismetis/dsp/blob/master/lessons/statistics/statistics/5-1-blue_men.md', 'https://github.com/thisismetis/dsp/blob/master/lessons/statistics/statistics/7-1-weight_vs_age.md', 'https://github.com/thisismetis/dsp/blob/master/img/save_your_work.png', 'https://github.com/thisismetis/dsp/blob/master/lessons/python_intro/python_review_and_best_practices.ipynb', 'https://github.com/thisismetis/dsp/blob/master/lessons/python_advanced/noise.pickle', 'https://github.com/thisismetis/dsp/blob/master/lessons/command_line/img/unix_fs.jpg', 'https://github.com/thisismetis/dsp/blob/master/lessons/editors', 'https://github.com/thisismetis/dsp/blob/master/lessons/python_advanced/deep_and_shallow_copy.ipynb?short_path=2093594', 'https://github.com/thisismetis/dsp/blob/master/lessons/install_jupyter', 'https://github.com/thisismetis/dsp/blob/master/lessons/git_branches/Intro_to_Git_Branches.pptx', 'https://github.com/thisismetis/dsp/blob/master/lessons/git_branches/Intro_to_Git_Branches.pdf', 'https://github.com/thisismetis/dsp/blob/master/lessons/python_intro/instructor_guide_week1_day1.md', 'https://github.com/thisismetis/dsp/blob/master/lessons/git_intro/Intro_to_Git.pptx', 'https://github.com/thisismetis/dsp/blob/master/lessons/install_jupyter/readme.md', 'https://github.com/thisismetis/dsp/blob/master/lessons/python_advanced/instructor_guide_week1_day4.md'}, 'links_done': {'https://github.com/thisismetis/dsp/blob/master/lessons/python_advanced/my_dataframe.pickle?raw=true', 'https://github.com/thisismetis/dsp/blob/master/lessons/git_intro/readme.md', 'https://github.com/thisismetis/dsp/blob/master/lessons/python_advanced/pickle_saving_objects_for_later.ipynb?short_path=b922d3d', 'https://github.com/thisismetis/dsp/blob/master/lessons/statistics/README.md', 'https://github.com/thisismetis/dsp/blob/master/README.md', 'https://github.com/thisismetis/dsp/blob/master/lessons/git_branches/Intro_to_Git_Branches.pptx?raw=true', 'https://github.com/thisismetis/dsp/blob/master/lessons/command_line/windows', 'https://github.com/thisismetis/dsp/blob/master/lessons/statistics', 'https://github.com/thisismetis/dsp/blob/master/lessons/statistics/statistics/2-4-cohens_d.md', 'https://github.com/thisismetis/dsp/blob/master/lessons/install/readme.md', 'https://github.com/thisismetis/dsp/blob/master/lessons/python_advanced/pickle_saving_objects_for_later.ipynb', 'https://github.com/thisismetis/dsp/blob/master/lessons/statistics/2-4-cohens_d.md', 'https://github.com/thisismetis/dsp/blob/master/lessons/python_intro/python_review_and_best_practices.ipynb?short_path=9548a9d', 'https://github.com/thisismetis/dsp/blob/master/lessons/install_jupyter/jupyter_notebook_2_use.md', 'https://github.com/thisismetis/dsp/blob/master/lessons/pandas_intro/Exploratory_Data_Analysis.key', 'https://github.com/thisismetis/dsp/blob/master/lessons/command_line', 'https://github.com/thisismetis/dsp/blob/master/lessons/git_fork/img/commit_file.png', 'https://github.com/thisismetis/dsp/blob/master/resources/student_blogs.md', 'https://github.com/thisismetis/dsp/blob/master/lessons/command_line/readme.md', 'https://github.com/thisismetis/dsp/blob/master/lessons/statistics/9-2-resampling.md', 'https://github.com/thisismetis/dsp/blob/master/lessons/git_intro/Intro_to_Git.pdf', 'https://github.com/thisismetis/dsp/blob/master/lessons/statistics/statistics/8-3-scoring.md', 'https://github.com/thisismetis/dsp/blob/master/lessons/statistics/6-1-household_income.md', 'https://github.com/thisismetis/dsp/blob/master/resources/computer_requirements.md', 'https://github.com/thisismetis/dsp/blob/master/lessons/statistics/7-1-weight_vs_age.md', 'https://github.com/thisismetis/dsp/blob/master/lessons/git_fork/img/forking_repo.png', 'https://github.com/thisismetis/dsp/blob/master/lessons/pandas_intro/Exploratory_Data_Analysis.key?raw=true', 'https://github.com/thisismetis/dsp/blob/master/lessons/command_line/command_line_lecture.md', 'https://github.com/thisismetis/dsp/blob/master/lessons/statistics/statistics/8-2-sampling_dist.md', 'https://github.com/thisismetis/dsp/blob/master/lessons/more_resources', 'https://github.com/thisismetis/dsp/blob/master/lessons/python_advanced/my_dataframe.pickle', 'https://github.com/thisismetis/dsp/blob/master/lessons/pandas_intro/pandas-exercise.ipynb', 'https://github.com/thisismetis/dsp/blob/master/img/mac2.png', 'https://github.com/thisismetis/dsp/blob/master/lessons/markdown/readme.md', 'https://github.com/thisismetis/dsp/blob/master/lessons/python_advanced/advanced_python_datatypes.ipynb', 'https://github.com/thisismetis/dsp/blob/master/lessons/pandas_intro/Intro-to-Pandas.ipynb', 'https://github.com/thisismetis/dsp/blob/master/lessons/install_jupyter/jupyter_notebook_1_install.md', 'https://github.com/thisismetis/dsp/blob/master/lessons/statistics/4-2-random_dist.md', 'https://github.com/thisismetis/dsp/blob/master/lessons/git_fork/img/edit_file.png', 'https://github.com/thisismetis/dsp/blob/master/lessons/python_intro/importing_with_python/importing_example.ipynb?short_path=dc6d225', 'https://github.com/thisismetis/dsp/blob/master/img/prep2.png', 'https://github.com/thisismetis/dsp/blob/master/lessons/install', 'https://github.com/thisismetis/dsp/blob/master/lessons/statistics/statistics/6-1-household_income.md', 'https://github.com/thisismetis/dsp/blob/master/lessons/python_advanced/noise.pickle?raw=true', 'https://github.com/thisismetis/dsp/blob/master/lessons/git_intro/Intro_to_Git.pptx?raw=true', 'https://github.com/thisismetis/dsp', 'https://github.com/thisismetis/dsp/blob/master/lessons/git_intro', 'https://github.com/thisismetis/dsp/blob/master/lessons/linear_algebra', 'https://github.com/thisismetis/dsp/blob/master/lessons/git_branches', 'https://github.com/thisismetis/dsp/blob/master/lessons/statistics/07-statistics.md', 'https://github.com/thisismetis/dsp/blob/master/lessons/statistics/3-1-actual_biased.md', 'https://github.com/thisismetis/dsp/blob/master/x', 'https://github.com/thisismetis/dsp/blob/master/lessons/statistics/statistics/3-1-actual_biased.md', 'https://github.com/thisismetis/dsp/blob/master/lessons/statistics/statistics/4-2-random_dist.md', 'https://github.com/thisismetis/dsp/blob/master/lessons/python_intro/importing_with_python/importing_example.ipynb', 'https://github.com/thisismetis/dsp/blob/master/lessons/python_intro/readme.md', 'https://github.com/thisismetis/dsp/blob/master/lessons/pandas_intro/pandas-exercise.ipynb?short_path=74e5308', 'https://github.com/thisismetis/dsp/blob/master/lessons/git_fork', 'https://github.com/thisismetis/dsp/blob/master/lessons/pandas_intro', 'https://github.com/thisismetis/dsp/blob/master/lessons/pandas_intro/Intro-to-Pandas.ipynb?short_path=9bbd8dd', 'https://github.com/thisismetis/dsp/blob/master/lessons/git_fork/readme.md', 'https://github.com/thisismetis/dsp/blob/master/lessons/python_advanced/readme.md', 'https://github.com/thisismetis/dsp/blob/master/lessons/editors/readme.md', 'https://github.com/thisismetis/dsp/blob/master/lessons/python_advanced', 'https://github.com/thisismetis/dsp/blob/master/lessons/git_intro/pull_request_demo.gif', 'https://github.com/thisismetis/dsp/blob/master/lessons/command_line/command_line_quick_reference.md', 'https://github.com/thisismetis/dsp/blob/master/.gitignore', 'https://github.com/thisismetis/dsp/blob/master/lessons/statistics/statistics/9-2-resampling.md', 'https://github.com/thisismetis/dsp/blob/master/lessons/statistics/8-2-sampling_dist.md', 'https://github.com/thisismetis/dsp/blob/master/lessons/linear_algebra/linear_algebra_in_4pages.pdf', 'https://github.com/thisismetis/dsp/blob/master/lessons/git_branches/readme.md', 'https://github.com/thisismetis/dsp/blob/master/lessons/pandas_intro/Exploratory_Data_Analysis.pdf', 'https://github.com/thisismetis/dsp/blob/master/lessons/markdown', 'https://github.com/thisismetis/dsp/blob/master/lessons/pandas_intro/readme.md', 'https://github.com/thisismetis/dsp/blob/master/lessons/statistics/5-1-blue_men.md', 'https://github.com/thisismetis/dsp/blob/master/lessons/more_resources/readme.md', 'https://github.com/thisismetis/dsp/blob/master/lessons/linear_algebra/readme.md', 'https://github.com/thisismetis/dsp/blob/master/lessons/python_advanced/deep_and_shallow_copy.ipynb', 'https://github.com/thisismetis/dsp/blob/master/lessons/statistics/8-3-scoring.md', 'https://github.com/thisismetis/dsp/blob/master/lessons/pandas_intro/pandas-solution.ipynb', 'https://github.com/thisismetis/dsp/blob/master/lessons/python_intro', 'https://github.com/thisismetis/dsp/blob/master/lessons/python_advanced/advanced_python_datatypes.ipynb?short_path=27e239e', 'https://github.com/thisismetis/dsp/blob/master/lessons/statistics/statistics/5-1-blue_men.md', 'https://github.com/thisismetis/dsp/blob/master/lessons/statistics/statistics/7-1-weight_vs_age.md', 'https://github.com/thisismetis/dsp/blob/master/img/save_your_work.png', 'https://github.com/thisismetis/dsp/blob/master/lessons/python_intro/python_review_and_best_practices.ipynb', 'https://github.com/thisismetis/dsp/blob/master/lessons/python_advanced/noise.pickle', 'https://github.com/thisismetis/dsp/blob/master/lessons/command_line/img/unix_fs.jpg', 'https://github.com/thisismetis/dsp/blob/master/lessons/editors', 'https://github.com/thisismetis/dsp/blob/master/lessons/python_advanced/deep_and_shallow_copy.ipynb?short_path=2093594', 'https://github.com/thisismetis/dsp/blob/master/lessons/install_jupyter', 'https://github.com/thisismetis/dsp/blob/master/lessons/git_branches/Intro_to_Git_Branches.pptx', 'https://github.com/thisismetis/dsp/blob/master/lessons/git_branches/Intro_to_Git_Branches.pdf', 'https://github.com/thisismetis/dsp/blob/master/lessons/python_intro/instructor_guide_week1_day1.md', 'https://github.com/thisismetis/dsp/blob/master/lessons/git_intro/Intro_to_Git.pptx', 'https://github.com/thisismetis/dsp/blob/master/lessons/install_jupyter/readme.md', 'https://github.com/thisismetis/dsp/blob/master/lessons/python_advanced/instructor_guide_week1_day4.md'}, 'links_404': {'https://github.com/thisismetis/dsp/blob/master/lessons/command_line/windows', 'https://github.com/thisismetis/dsp/blob/master/lessons/pandas_intro/pandas-solution.ipynb', 'https://github.com/thisismetis/dsp/blob/master/lessons/statistics/statistics/4-2-random_dist.md', 'https://github.com/thisismetis/dsp/blob/master/lessons/git_fork/img/commit_file.png', 'https://github.com/thisismetis/dsp/blob/master/lessons/statistics/statistics/3-1-actual_biased.md', 'https://github.com/thisismetis/dsp/blob/master/lessons/statistics/statistics/9-2-resampling.md', 'https://github.com/thisismetis/dsp/blob/master/lessons/git_fork/img/forking_repo.png', 'https://github.com/thisismetis/dsp/blob/master/lessons/pandas_intro/Exploratory_Data_Analysis.key?raw=true', 'https://github.com/thisismetis/dsp/blob/master/lessons/statistics/statistics/8-3-scoring.md', 'https://github.com/thisismetis/dsp/blob/master/lessons/command_line/img/unix_fs.jpg', 'https://github.com/thisismetis/dsp/blob/master/lessons/statistics/statistics/5-1-blue_men.md', 'https://github.com/thisismetis/dsp/blob/master/lessons/statistics/statistics/6-1-household_income.md', 'https://github.com/thisismetis/dsp/blob/master/lessons/statistics/statistics/7-1-weight_vs_age.md', 'https://github.com/thisismetis/dsp/blob/master/lessons/statistics/statistics/8-2-sampling_dist.md', 'https://github.com/thisismetis/dsp/blob/master/lessons/statistics/statistics/2-4-cohens_d.md', 'https://github.com/thisismetis/dsp/blob/master/lessons/git_branches/Intro_to_Git_Branches.pptx?raw=true', 'https://github.com/thisismetis/dsp/blob/master/lessons/git_fork/img/edit_file.png'}}\n"
     ]
    }
   ],
   "source": [
    "links_todo, links_done, links_404 = scrape404(\"https://github.com/thisismetis/dsp\", contains=\"thisismetis/dsp/blob/master\", max_depth=2)\n",
    "\n",
    "print(dict(links_todo=links_todo, links_done=links_done, links_404=links_404))"
   ]
  },
  {
   "cell_type": "code",
   "execution_count": 60,
   "metadata": {
    "ExecuteTime": {
     "end_time": "2019-04-15T19:17:07.698960Z",
     "start_time": "2019-04-15T19:17:07.686403Z"
    }
   },
   "outputs": [
    {
     "name": "stdout",
     "output_type": "stream",
     "text": [
      "{'https://github.com/thisismetis/dsp/blob/master/lessons/command_line/windows', 'https://github.com/thisismetis/dsp/blob/master/lessons/pandas_intro/pandas-solution.ipynb', 'https://github.com/thisismetis/dsp/blob/master/lessons/statistics/statistics/4-2-random_dist.md', 'https://github.com/thisismetis/dsp/blob/master/lessons/git_fork/img/commit_file.png', 'https://github.com/thisismetis/dsp/blob/master/lessons/statistics/statistics/3-1-actual_biased.md', 'https://github.com/thisismetis/dsp/blob/master/lessons/statistics/statistics/9-2-resampling.md', 'https://github.com/thisismetis/dsp/blob/master/lessons/git_fork/img/forking_repo.png', 'https://github.com/thisismetis/dsp/blob/master/lessons/pandas_intro/Exploratory_Data_Analysis.key?raw=true', 'https://github.com/thisismetis/dsp/blob/master/lessons/statistics/statistics/8-3-scoring.md', 'https://github.com/thisismetis/dsp/blob/master/lessons/command_line/img/unix_fs.jpg', 'https://github.com/thisismetis/dsp/blob/master/lessons/statistics/statistics/5-1-blue_men.md', 'https://github.com/thisismetis/dsp/blob/master/lessons/statistics/statistics/6-1-household_income.md', 'https://github.com/thisismetis/dsp/blob/master/lessons/statistics/statistics/7-1-weight_vs_age.md', 'https://github.com/thisismetis/dsp/blob/master/lessons/statistics/statistics/8-2-sampling_dist.md', 'https://github.com/thisismetis/dsp/blob/master/lessons/statistics/statistics/2-4-cohens_d.md', 'https://github.com/thisismetis/dsp/blob/master/lessons/git_branches/Intro_to_Git_Branches.pptx?raw=true', 'https://github.com/thisismetis/dsp/blob/master/lessons/git_fork/img/edit_file.png'}\n"
     ]
    }
   ],
   "source": [
    "print(links_404)"
   ]
  },
  {
   "cell_type": "code",
   "execution_count": null,
   "metadata": {},
   "outputs": [],
   "source": []
  }
 ],
 "metadata": {
  "kernelspec": {
   "display_name": "metis",
   "language": "python",
   "name": "metis"
  },
  "language_info": {
   "codemirror_mode": {
    "name": "ipython",
    "version": 3
   },
   "file_extension": ".py",
   "mimetype": "text/x-python",
   "name": "python",
   "nbconvert_exporter": "python",
   "pygments_lexer": "ipython3",
   "version": "3.6.8"
  }
 },
 "nbformat": 4,
 "nbformat_minor": 2
}
